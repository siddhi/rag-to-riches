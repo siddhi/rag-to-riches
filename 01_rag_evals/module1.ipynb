{
 "cells": [
  {
   "cell_type": "markdown",
   "metadata": {},
   "source": [
    "# Module 1: Metrics for Evaluation \n",
    "\n",
    "Outline\n",
    "- Intro to LLM-as-judge\n",
    "\t- why use them\n",
    "\t\t- LLM are being evaluated on more complicated tasks\n",
    "\t\t- Faster and Cheaper than Human Evaluators ()\n",
    "\t- how we score\n",
    "\t- how we check if metrics are correct\n",
    "- metrics Ragas has\n",
    "\t- faithfullness\n",
    "\t- answer_correctness\n",
    "\t- context_recall and context_enity_recall\n",
    "\t- context_precision\n",
    "\t- noise_sensitivity\n",
    "\t- rubric based method\n",
    "- In Action\n",
    "\t- using metrics as a guiding light and not optimisation function\n",
    "\t- how to choose the Judge LLM\n",
    "\t\t- summarise the work we did to choose the Judge LLM for the assignment evaluation\n",
    "\t- the alignment problem\n",
    "\t\t- why is it hard\n",
    "\t\t- how can we do better\n",
    "\n",
    "slides are [here](./Evaluation%20for%20Search%20for%20RAG.pdf)"
   ]
  },
  {
   "cell_type": "code",
   "execution_count": 1,
   "metadata": {},
   "outputs": [],
   "source": [
    "%reload_ext autoreload\n",
    "%autoreload 2\n",
    "\n",
    "import nest_asyncio\n",
    "nest_asyncio.apply()"
   ]
  },
  {
   "cell_type": "code",
   "execution_count": 2,
   "metadata": {},
   "outputs": [
    {
     "data": {
      "text/plain": [
       "True"
      ]
     },
     "execution_count": 2,
     "metadata": {},
     "output_type": "execute_result"
    }
   ],
   "source": [
    "from dotenv import find_dotenv, load_dotenv\n",
    "\n",
    "load_dotenv(find_dotenv())"
   ]
  },
  {
   "cell_type": "code",
   "execution_count": 3,
   "metadata": {
    "scrolled": true
   },
   "outputs": [
    {
     "name": "stdout",
     "output_type": "stream",
     "text": [
      "🌍 To view the Phoenix app in your browser, visit http://localhost:6006/\n",
      "📖 For more information on how to use Phoenix, check out https://docs.arize.com/phoenix\n",
      "OpenTelemetry Tracing Details\n",
      "|  Phoenix Project: default\n",
      "|  Span Processor: SimpleSpanProcessor\n",
      "|  Collector Endpoint: localhost:4317\n",
      "|  Transport: gRPC\n",
      "|  Transport Headers: {'user-agent': '****'}\n",
      "|  \n",
      "|  Using a default SpanProcessor. `add_span_processor` will overwrite this default.\n",
      "|  \n",
      "|  `register` has set this TracerProvider as the global OpenTelemetry default.\n",
      "|  To disable this behavior, call `register` with `set_global_tracer_provider=False`.\n",
      "\n"
     ]
    }
   ],
   "source": [
    "import phoenix as px\n",
    "from phoenix.otel import register\n",
    "from openinference.instrumentation.langchain import LangChainInstrumentor\n",
    "\n",
    "# start the phoenix app\n",
    "session = px.launch_app()\n",
    "# Initialize Langchain auto-instrumentation\n",
    "tracer_provider = register()\n",
    "LangChainInstrumentor().instrument(tracer_provider=tracer_provider)"
   ]
  },
  {
   "cell_type": "code",
   "execution_count": 4,
   "metadata": {},
   "outputs": [],
   "source": [
    "from langchain_openai import ChatOpenAI\n",
    "from ragas.llms import LangchainLLMWrapper\n",
    "\n",
    "llm = ChatOpenAI(model=\"gpt-4o\", temperature=0)\n",
    "judge_llm = LangchainLLMWrapper(llm)"
   ]
  },
  {
   "cell_type": "code",
   "execution_count": 5,
   "metadata": {},
   "outputs": [],
   "source": [
    "def process_row(row, correct=False, column=\"response\"):\n",
    "    if correct:\n",
    "        row[column] = row[\"correct\"]\n",
    "    else:\n",
    "        row[column] = row[\"incorrect\"]\n",
    "    return row"
   ]
  },
  {
   "cell_type": "markdown",
   "metadata": {},
   "source": [
    "### Faithfulness"
   ]
  },
  {
   "cell_type": "code",
   "execution_count": 19,
   "metadata": {},
   "outputs": [
    {
     "name": "stderr",
     "output_type": "stream",
     "text": [
      "C:\\Users\\Siddharta\\AppData\\Local\\Temp\\ipykernel_29740\\1383373646.py:11: DeprecationWarning: The function score was deprecated in 0.2, and will be removed in the 0.3 release. Use single_turn_ascore instead.\n",
      "  faithfulness.score(process_row(row, correct=False))\n"
     ]
    },
    {
     "data": {
      "text/plain": [
       "1.0"
      ]
     },
     "execution_count": 19,
     "metadata": {},
     "output_type": "execute_result"
    }
   ],
   "source": [
    "row = {\n",
    "    \"user_input\": \"Where and when was Einstein born?\",\n",
    "    \"retrieved_contexts\": [\"Albert Einstein (born 14 March 1879) was a German-born theoretical physicist, widely held to be one of the greatest and most influential scientists of all time\"],\n",
    "    \"correct\": \"Einstein was born in Germany on 14th March 1879.\",\n",
    "    \"incorrect\": \"Einstein was born in Germany.\",\n",
    "}\n",
    "\n",
    "from ragas.metrics import faithfulness\n",
    "faithfulness.llm = judge_llm\n",
    "\n",
    "faithfulness.score(process_row(row, correct=False))"
   ]
  },
  {
   "cell_type": "markdown",
   "metadata": {},
   "source": [
    "### Answer Correctness"
   ]
  },
  {
   "cell_type": "code",
   "execution_count": 7,
   "metadata": {},
   "outputs": [],
   "source": [
    "row = {\n",
    "    \"user_input\": \"Where and when was Einstein born?\",\n",
    "    \"reference\": \"Einstein was born in 1879 in Germany.\",\n",
    "    \"correct\": \"In 1879, Einstein was born in Germany.\",\n",
    "    \"incorrect\": \"Einstein was born in Spain in 1879.\",\n",
    "}\n",
    "\n",
    "from ragas.metrics import answer_correctness, answer_similarity\n",
    "from ragas.embeddings import embedding_factory\n",
    "\n",
    "answer_correctness.llm = judge_llm\n",
    "answer_similarity.embeddings = embedding_factory(\"text-embedding-3-small\")\n",
    "answer_correctness.answer_similarity = answer_similarity"
   ]
  },
  {
   "cell_type": "code",
   "execution_count": 8,
   "metadata": {},
   "outputs": [
    {
     "name": "stderr",
     "output_type": "stream",
     "text": [
      "C:\\Users\\Siddharta\\AppData\\Local\\Temp\\ipykernel_29740\\1311459674.py:1: DeprecationWarning: The function score was deprecated in 0.2, and will be removed in the 0.3 release. Use single_turn_ascore instead.\n",
      "  answer_correctness.score(process_row(row, correct=True))\n"
     ]
    },
    {
     "data": {
      "text/plain": [
       "0.9837369223673363"
      ]
     },
     "execution_count": 8,
     "metadata": {},
     "output_type": "execute_result"
    }
   ],
   "source": [
    "answer_correctness.score(process_row(row, correct=True))"
   ]
  },
  {
   "cell_type": "markdown",
   "metadata": {},
   "source": [
    "### Context Recall"
   ]
  },
  {
   "cell_type": "code",
   "execution_count": 9,
   "metadata": {},
   "outputs": [
    {
     "data": {
      "text/plain": [
       "{<MetricType.SINGLE_TURN: 'single_turn'>: {'reference',\n",
       "  'retrieved_contexts',\n",
       "  'user_input'}}"
      ]
     },
     "execution_count": 9,
     "metadata": {},
     "output_type": "execute_result"
    }
   ],
   "source": [
    "row = {\n",
    "    \"user_input\": \"Where and when was Einstein born?\",\n",
    "    \"reference\": \"Einstein was born in 1879 in Germany.\",\n",
    "    \"correct\": [\"Albert Einstein was born on March 14, 1879 in Ulm, Württemberg, Germany\"],\n",
    "    \"incorrect\": [\"Einstein was born in Ulm, but his family moved to Munich when he was just six weeks old\", \n",
    "                  \"Einstein's birth was registered at the registry office in Ulm on March 15, 1879, the day after he was born\"\n",
    "                  \"At the time of Einstein's birth, Ulm was a growing town of about 33,000 inhabitants\"],\n",
    "}\n",
    "\n",
    "from ragas.metrics import context_recall\n",
    "context_recall.llm = judge_llm\n",
    "\n",
    "context_recall._required_columns"
   ]
  },
  {
   "cell_type": "code",
   "execution_count": 10,
   "metadata": {},
   "outputs": [
    {
     "name": "stderr",
     "output_type": "stream",
     "text": [
      "C:\\Users\\Siddharta\\AppData\\Local\\Temp\\ipykernel_29740\\420289945.py:1: DeprecationWarning: The function score was deprecated in 0.2, and will be removed in the 0.3 release. Use single_turn_ascore instead.\n",
      "  context_recall.score(process_row(row, correct=False, column=\"retrieved_contexts\"))\n"
     ]
    },
    {
     "data": {
      "text/plain": [
       "1.0"
      ]
     },
     "execution_count": 10,
     "metadata": {},
     "output_type": "execute_result"
    }
   ],
   "source": [
    "context_recall.score(process_row(row, correct=False, column=\"retrieved_contexts\"))"
   ]
  },
  {
   "cell_type": "code",
   "execution_count": 11,
   "metadata": {},
   "outputs": [
    {
     "name": "stderr",
     "output_type": "stream",
     "text": [
      "C:\\Users\\Siddharta\\AppData\\Local\\Temp\\ipykernel_29740\\3900853420.py:1: DeprecationWarning: The function score was deprecated in 0.2, and will be removed in the 0.3 release. Use single_turn_ascore instead.\n",
      "  context_recall.score(process_row(row, correct=True, column=\"retrieved_contexts\"))\n"
     ]
    },
    {
     "data": {
      "text/plain": [
       "1.0"
      ]
     },
     "execution_count": 11,
     "metadata": {},
     "output_type": "execute_result"
    }
   ],
   "source": [
    "\n",
    "context_recall.score(process_row(row, correct=True, column=\"retrieved_contexts\"))"
   ]
  },
  {
   "cell_type": "markdown",
   "metadata": {},
   "source": [
    "### Context Enity Recall"
   ]
  },
  {
   "cell_type": "code",
   "execution_count": 12,
   "metadata": {},
   "outputs": [
    {
     "name": "stderr",
     "output_type": "stream",
     "text": [
      "C:\\Users\\Siddharta\\AppData\\Local\\Temp\\ipykernel_29740\\363734810.py:4: DeprecationWarning: The function score was deprecated in 0.2, and will be removed in the 0.3 release. Use single_turn_ascore instead.\n",
      "  context_entity_recall.score(process_row(row, correct=False, column=\"retrieved_contexts\"))\n"
     ]
    },
    {
     "data": {
      "text/plain": [
       "0.3333333322222222"
      ]
     },
     "execution_count": 12,
     "metadata": {},
     "output_type": "execute_result"
    }
   ],
   "source": [
    "from ragas.metrics import context_entity_recall\n",
    "context_entity_recall.llm = judge_llm\n",
    "context_entity_recall._required_columns\n",
    "context_entity_recall.score(process_row(row, correct=False, column=\"retrieved_contexts\"))"
   ]
  },
  {
   "cell_type": "markdown",
   "metadata": {},
   "source": [
    "### Context Precision"
   ]
  },
  {
   "cell_type": "code",
   "execution_count": 13,
   "metadata": {},
   "outputs": [
    {
     "data": {
      "text/plain": [
       "{<MetricType.SINGLE_TURN: 'single_turn'>: {'reference',\n",
       "  'retrieved_contexts',\n",
       "  'user_input'}}"
      ]
     },
     "execution_count": 13,
     "metadata": {},
     "output_type": "execute_result"
    }
   ],
   "source": [
    "row = {\n",
    "    \"user_input\": \"Where and when was Einstein born?\",\n",
    "    \"reference\": \"Einstein was born in 1879 in Germany.\",\n",
    "    \"correct\": [\"Albert Einstein was born on March 14, 1879 in Ulm, Württemberg, Germany\"],\n",
    "    \"incorrect\": [\"Einstein was born in Ulm, but his family moved to Munich when he was just six weeks old\", \n",
    "                  \"Einstein's birth was registered at the registry office in Ulm on March 15, 1879, the day after he was born\"],\n",
    "}\n",
    "\n",
    "from ragas.metrics import context_precision\n",
    "context_precision.llm = judge_llm\n",
    "context_precision._required_columns"
   ]
  },
  {
   "cell_type": "code",
   "execution_count": 14,
   "metadata": {},
   "outputs": [
    {
     "name": "stderr",
     "output_type": "stream",
     "text": [
      "C:\\Users\\Siddharta\\AppData\\Local\\Temp\\ipykernel_29740\\295053778.py:1: DeprecationWarning: The function score was deprecated in 0.2, and will be removed in the 0.3 release. Use single_turn_ascore instead.\n",
      "  context_precision.score(process_row(row, correct=True, column=\"retrieved_contexts\"))\n"
     ]
    },
    {
     "data": {
      "text/plain": [
       "0.9999999999"
      ]
     },
     "execution_count": 14,
     "metadata": {},
     "output_type": "execute_result"
    }
   ],
   "source": [
    "context_precision.score(process_row(row, correct=True, column=\"retrieved_contexts\"))"
   ]
  },
  {
   "cell_type": "markdown",
   "metadata": {},
   "source": [
    "### Rubric Based Metrics"
   ]
  },
  {
   "cell_type": "code",
   "execution_count": 15,
   "metadata": {},
   "outputs": [
    {
     "ename": "ImportError",
     "evalue": "cannot import name 'labelled_rubrics_score' from 'ragas.metrics' (D:\\Projects\\rag-to-riches\\.venv\\Lib\\site-packages\\ragas\\metrics\\__init__.py)",
     "output_type": "error",
     "traceback": [
      "\u001b[1;31m---------------------------------------------------------------------------\u001b[0m",
      "\u001b[1;31mImportError\u001b[0m                               Traceback (most recent call last)",
      "Cell \u001b[1;32mIn[15], line 4\u001b[0m\n\u001b[0;32m      1\u001b[0m \u001b[38;5;28;01mfrom\u001b[39;00m \u001b[38;5;21;01mragas\u001b[39;00m \u001b[38;5;28;01mimport\u001b[39;00m evaluate\n\u001b[0;32m      2\u001b[0m \u001b[38;5;28;01mfrom\u001b[39;00m \u001b[38;5;21;01mdatasets\u001b[39;00m \u001b[38;5;28;01mimport\u001b[39;00m Dataset, DatasetDict\n\u001b[1;32m----> 4\u001b[0m \u001b[38;5;28;01mfrom\u001b[39;00m \u001b[38;5;21;01mragas\u001b[39;00m\u001b[38;5;21;01m.\u001b[39;00m\u001b[38;5;21;01mmetrics\u001b[39;00m \u001b[38;5;28;01mimport\u001b[39;00m labelled_rubrics_score, reference_free_rubrics_score\n\u001b[0;32m      7\u001b[0m responses \u001b[38;5;241m=\u001b[39m [\n\u001b[0;32m      8\u001b[0m     \u001b[38;5;124m\"\u001b[39m\u001b[38;5;124mThe Longest river is Ganga\u001b[39m\u001b[38;5;124m\"\u001b[39m,\n\u001b[0;32m      9\u001b[0m     \u001b[38;5;124m\"\u001b[39m\u001b[38;5;124mThe Longest river is Nile\u001b[39m\u001b[38;5;124m\"\u001b[39m,\n\u001b[0;32m     10\u001b[0m     \u001b[38;5;124m\"\u001b[39m\u001b[38;5;124mThe longest river in the world is the Nile, stretching approximately 6,650 kilometers (4,130 miles) through northeastern Africa, flowing through countries such as Uganda, Sudan, and Egypt before emptying into the Mediterranean Sea. There is some debate about this title, as recent studies suggest the Amazon River could be longer if its longest tributaries are included, potentially extending its length to about 7,000 kilometers (4,350 miles).\u001b[39m\u001b[38;5;124m\"\u001b[39m\n\u001b[0;32m     11\u001b[0m ]\n\u001b[0;32m     12\u001b[0m rows \u001b[38;5;241m=\u001b[39m {\n\u001b[0;32m     13\u001b[0m     \u001b[38;5;124m\"\u001b[39m\u001b[38;5;124muser_input\u001b[39m\u001b[38;5;124m\"\u001b[39m: [\n\u001b[0;32m     14\u001b[0m         \u001b[38;5;124m\"\u001b[39m\u001b[38;5;124mWhat\u001b[39m\u001b[38;5;124m'\u001b[39m\u001b[38;5;124ms the longest river in the world?\u001b[39m\u001b[38;5;124m\"\u001b[39m,\n\u001b[1;32m   (...)\u001b[0m\n\u001b[0;32m     29\u001b[0m     ]\n\u001b[0;32m     30\u001b[0m }\n",
      "\u001b[1;31mImportError\u001b[0m: cannot import name 'labelled_rubrics_score' from 'ragas.metrics' (D:\\Projects\\rag-to-riches\\.venv\\Lib\\site-packages\\ragas\\metrics\\__init__.py)"
     ]
    }
   ],
   "source": [
    "from ragas import evaluate\n",
    "from datasets import Dataset, DatasetDict\n",
    "\n",
    "from ragas.metrics import labelled_rubrics_score, reference_free_rubrics_score\n",
    "\n",
    "\n",
    "responses = [\n",
    "    \"The Longest river is Ganga\",\n",
    "    \"The Longest river is Nile\",\n",
    "    \"The longest river in the world is the Nile, stretching approximately 6,650 kilometers (4,130 miles) through northeastern Africa, flowing through countries such as Uganda, Sudan, and Egypt before emptying into the Mediterranean Sea. There is some debate about this title, as recent studies suggest the Amazon River could be longer if its longest tributaries are included, potentially extending its length to about 7,000 kilometers (4,350 miles).\"\n",
    "]\n",
    "rows = {\n",
    "    \"user_input\": [\n",
    "        \"What's the longest river in the world?\",\n",
    "    ],\n",
    "    \"reference\": [\n",
    "        \"The Nile is a major north-flowing river in northeastern Africa.\",\n",
    "    ],\n",
    "    \"response\": [\n",
    "        responses[2],\n",
    "    ],\n",
    "    \"retrieved_contexts\": [\n",
    "        [\n",
    "            \"Scientists debate whether the Amazon or the Nile is the longest river in the world. Traditionally, the Nile is considered longer, but recent information suggests that the Amazon may be longer.\",\n",
    "            \"The Nile River was central to the Ancient Egyptians' rise to wealth and power. Since rainfall is almost non-existent in Egypt, the Nile River and its yearly floodwaters offered the people a fertile oasis for rich agriculture.\",\n",
    "            \"The world's longest rivers are defined as the longest natural streams whose water flows within a channel, or streambed, with defined banks.\",\n",
    "            \"The Amazon River could be considered longer if its longest tributaries are included, potentially extending its length to about 7,000 kilometers.\"\n",
    "        ],\n",
    "    ]\n",
    "}\n",
    "\n",
    "\n",
    "\n",
    "dataset = Dataset.from_dict(rows)\n",
    "\n",
    "result = evaluate(\n",
    "    dataset,\n",
    "    metrics=[\n",
    "        labelled_rubrics_score,\n",
    "        reference_free_rubrics_score\n",
    "    ],\n",
    ")\n",
    "\n",
    "result.to_pandas()"
   ]
  },
  {
   "cell_type": "code",
   "execution_count": null,
   "metadata": {},
   "outputs": [],
   "source": []
  }
 ],
 "metadata": {
  "kernelspec": {
   "display_name": "Python 3 (ipykernel)",
   "language": "python",
   "name": "python3"
  },
  "language_info": {
   "codemirror_mode": {
    "name": "ipython",
    "version": 3
   },
   "file_extension": ".py",
   "mimetype": "text/x-python",
   "name": "python",
   "nbconvert_exporter": "python",
   "pygments_lexer": "ipython3",
   "version": "3.12.7"
  }
 },
 "nbformat": 4,
 "nbformat_minor": 4
}
